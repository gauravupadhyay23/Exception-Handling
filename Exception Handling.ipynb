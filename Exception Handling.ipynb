{
 "cells": [
  {
   "cell_type": "markdown",
   "id": "7cc953fb",
   "metadata": {},
   "source": [
    "Q1. What is an Exception in python? Write the difference between Exceptions and Syntax errors."
   ]
  },
  {
   "cell_type": "markdown",
   "id": "ba29d7b6",
   "metadata": {},
   "source": [
    "A1. An exception in Python is an event that disrupts the normal flow of program execution. \n",
    "It indicates an error or unexpected condition that requires special handling to maintain program \n",
    "stability and prevent crashes. Exceptions can arise due to various reasons, such as invalid input, \n",
    "incorrect data types, missing resources, or logical errors in the code.\n",
    "\n",
    "\n",
    "Execption Errors : \n",
    "1 . Exceptions are runtime errors that occur during the execution of a program. \n",
    "They are typically caused by unexpected conditions or errors in the program logic.\n",
    "2. Exceptions can be handled using try-except blocks. These blocks allow the program \n",
    "to catch exceptions and execute specific code to handle the error gracefully.\n",
    "\n",
    "Syntax Errors :\n",
    "1. Syntax errors are errors in the structure or grammar of the Python code. \n",
    "They prevent the code from being parsed and compiled correctly.\n",
    "\n",
    "2 .Syntax errors must be corrected before the code can be executed. \n",
    "They cannot be handled using try-except blocks as they prevent the program from running in the first place.\n"
   ]
  },
  {
   "cell_type": "markdown",
   "id": "c0c87caa",
   "metadata": {},
   "source": [
    "Q2. What happens when an exception is not handled? Explain with an example."
   ]
  },
  {
   "cell_type": "markdown",
   "id": "c5dd849c",
   "metadata": {},
   "source": [
    "A2 . When an exception is not handled, the program execution terminates abruptly, and an error message is \n",
    "displayed. The program crashes, and any subsequent code after the point of the exception is not executed. \n",
    "This can lead to data loss, unexpected behavior, and a poor user experience\n",
    "\n",
    "def divide(a, b):\n",
    "  result = a / b\n",
    "  print(\"Result:\", result)\n",
    "\n",
    "divide(10, 0)\n",
    "print(\"After division\")\n",
    "\n",
    "In this code, the divide function attempts to divide 10 by 0. This causes a ZeroDivisionError exception, \n",
    "as division by zero is undefined. Since the exception is not handled, the program terminates at the point \n",
    "of the error, and the message \"After division\" is never printed."
   ]
  },
  {
   "cell_type": "markdown",
   "id": "21a9434a",
   "metadata": {},
   "source": [
    "Q3. Which Python statements are used to , catch and handle exceptions? Explain with an example"
   ]
  },
  {
   "cell_type": "markdown",
   "id": "9f9508d9",
   "metadata": {},
   "source": [
    "A3 . The Python statements used to catch and handle exceptions are try, except, and finally. \n",
    "These statements are used together to create a try-except block, which allows the program to \n",
    "intercept and handle exceptions that occur during the execution of the code within the try block.\n",
    "\n",
    "def read_file(filename):\n",
    "  try:\n",
    "    with open(filename, 'r') as f:\n",
    "      contents = f.read()\n",
    "      print(contents)\n",
    "  except FileNotFoundError:\n",
    "    print(\"File not found:\", filename)\n",
    "  except Exception as e:\n",
    "    print(\"Unexpected error:\", e)\n",
    "  finally:\n",
    "    print(\"File operation completed\")\n",
    "\n",
    "read_file(\"data.txt\")\n",
    "\n",
    "In this example, the read_file function attempts to read the contents of a file. \n",
    "If the file is not found, a FileNotFoundError exception is raised, and the corresponding except block \n",
    "handles the error. If any other exception occurs, the generic except block catches it and prints an error \n",
    "message. The finally block ensures that the message \"File operation completed\" is always printed, \n",
    "regardless of whether an exception occurs or not."
   ]
  },
  {
   "cell_type": "markdown",
   "id": "7b49d818",
   "metadata": {},
   "source": [
    "Q4. Explain with an example:\n",
    "\n",
    "1. try and else\n",
    "2. finally\n",
    "3. raise"
   ]
  },
  {
   "cell_type": "markdown",
   "id": "3b0d0181",
   "metadata": {},
   "source": [
    "try and else:\n",
    "The else clause in a try-except block is executed when no exceptions occur within the try block. \n",
    "It allows for code that should only be executed if the try block completes successfully without \n",
    "any errors.\n",
    "\n",
    "Example:\n",
    "\n",
    "\n",
    "def divide(a, b):\n",
    "  try:\n",
    "    result = a / b\n",
    "  except ZeroDivisionError:\n",
    "    print(\"Division by zero error\")\n",
    "  else:\n",
    "    print(\"Result:\", result)\n",
    "\n",
    "divide(10, 2)\n",
    "divide(10, 0)\n",
    "\n",
    "\n",
    "\n",
    "\n",
    "finally:\n",
    "The finally clause in a try-except block is always executed, regardless of whether an exception \n",
    "occurs or not. It is typically used for cleanup tasks, such as closing files, releasing resources, \n",
    "or performing any necessary final actions.\n",
    "\n",
    "Example:\n",
    "\n",
    "def read_file(filename):\n",
    "  try:\n",
    "    with open(filename, 'r') as f:\n",
    "      contents = f.read()\n",
    "      print(contents)\n",
    "  except FileNotFoundError:\n",
    "    print(\"File not found:\", filename)\n",
    "  except Exception as e:\n",
    "    print(\"Unexpected error:\", e)\n",
    "  finally:\n",
    "    print(\"File operation completed\")\n",
    "\n",
    "read_file(\"data.txt\")\n",
    "\n",
    "\n",
    "raise:\n",
    "The raise statement is used to explicitly raise an exception. \n",
    "It allows the programmer to signal an error condition or interrupt the normal flow of execution.\n",
    "\n",
    "Example:\n",
    "\n",
    "def check_age(age):\n",
    "  if age < 18:\n",
    "    raise ValueError(\"Age must be 18 or above\")\n",
    "  else:\n",
    "    print(\"Age is valid\")\n",
    "\n",
    "check_age(15)\n",
    "check_age(20)\n"
   ]
  },
  {
   "cell_type": "markdown",
   "id": "a12b2fd1",
   "metadata": {},
   "source": [
    "Q5. What are Custom Exceptions in python? Why do we need Custom Exceptions? Explain with an example"
   ]
  },
  {
   "cell_type": "markdown",
   "id": "1dd22138",
   "metadata": {},
   "source": [
    "A5. Custom exceptions in Python are user-defined exception classes that extend the built-in exception\n",
    "hierarchy to handle specific error conditions or events that are not covered by the standard exceptions. \n",
    "They allow developers to create their own exception types with meaningful names and customized behavior, \n",
    "tailored to the needs of their application.\n",
    "\n",
    "class InvalidEmailError(Exception):\n",
    "  def __init__(self, email):\n",
    "    super().__init__(f\"Invalid email address: {email}\")\n",
    "\n",
    "def validate_email(email):\n",
    "  if not \"@\" in email:\n",
    "    raise InvalidEmailError(email)\n",
    "  else:\n",
    "    print(\"Email is valid\")\n",
    "\n",
    "validate_email(\"johndoe\")\n",
    "validate_email(\"johndoe@example.com\")"
   ]
  },
  {
   "cell_type": "markdown",
   "id": "bdc27088",
   "metadata": {},
   "source": [
    "Q6. Create custom exception class. Use this class to handle an exception."
   ]
  },
  {
   "cell_type": "code",
   "execution_count": null,
   "id": "bf88f20f",
   "metadata": {},
   "outputs": [],
   "source": [
    "class InvalidEmailError(Exception):\n",
    "  def __init__(self, email):\n",
    "    super().__init__(f\"Invalid email address: {email}\")\n",
    "\n",
    "def validate_email(email):\n",
    "  if not \"@\" in email:\n",
    "    raise InvalidEmailError(email)\n",
    "  else:\n",
    "    print(\"Email is valid\")\n",
    "\n",
    "validate_email(\"johndoe\")\n",
    "validate_email(\"johndoe@example.com\")"
   ]
  }
 ],
 "metadata": {
  "kernelspec": {
   "display_name": "Python 3 (ipykernel)",
   "language": "python",
   "name": "python3"
  },
  "language_info": {
   "codemirror_mode": {
    "name": "ipython",
    "version": 3
   },
   "file_extension": ".py",
   "mimetype": "text/x-python",
   "name": "python",
   "nbconvert_exporter": "python",
   "pygments_lexer": "ipython3",
   "version": "3.11.5"
  }
 },
 "nbformat": 4,
 "nbformat_minor": 5
}
